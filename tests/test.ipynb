{
 "cells": [
  {
   "cell_type": "code",
   "execution_count": 1,
   "metadata": {},
   "outputs": [
    {
     "name": "stdout",
     "output_type": "stream",
     "text": [
      "[4.6, 8.8]\n"
     ]
    }
   ],
   "source": [
    "product_info_embedding = [1.2, 2.3]\n",
    "product_info_embedding = [2.3, 4.4]\n",
    "res =[x + y for x, y in zip(product_info_embedding, product_info_embedding)]\n",
    "print(res)"
   ]
  },
  {
   "cell_type": "code",
   "execution_count": 3,
   "metadata": {},
   "outputs": [
    {
     "name": "stdout",
     "output_type": "stream",
     "text": [
      "99713bb7-00c8-475b-8b51-cdfd13c6f683\n"
     ]
    }
   ],
   "source": [
    "from uuid import uuid4\n",
    "\n",
    "print(uuid4())"
   ]
  }
 ],
 "metadata": {
  "kernelspec": {
   "display_name": "base",
   "language": "python",
   "name": "python3"
  },
  "language_info": {
   "codemirror_mode": {
    "name": "ipython",
    "version": 3
   },
   "file_extension": ".py",
   "mimetype": "text/x-python",
   "name": "python",
   "nbconvert_exporter": "python",
   "pygments_lexer": "ipython3",
   "version": "3.12.2"
  }
 },
 "nbformat": 4,
 "nbformat_minor": 2
}
